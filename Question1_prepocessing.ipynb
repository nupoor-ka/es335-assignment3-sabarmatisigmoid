{
  "nbformat": 4,
  "nbformat_minor": 0,
  "metadata": {
    "colab": {
      "provenance": [],
      "gpuType": "T4",
      "authorship_tag": "ABX9TyMY1eD4B1sDJauZT1tgkya4",
      "include_colab_link": true
    },
    "kernelspec": {
      "name": "python3",
      "display_name": "Python 3"
    },
    "language_info": {
      "name": "python"
    },
    "accelerator": "GPU"
  },
  "cells": [
    {
      "cell_type": "markdown",
      "metadata": {
        "id": "view-in-github",
        "colab_type": "text"
      },
      "source": [
        "<a href=\"https://colab.research.google.com/github/nupoor-ka/es335-assignment3-sabarmatisigmoid/blob/main/Question1_prepocessing.ipynb\" target=\"_parent\"><img src=\"https://colab.research.google.com/assets/colab-badge.svg\" alt=\"Open In Colab\"/></a>"
      ]
    },
    {
      "cell_type": "code",
      "execution_count": null,
      "metadata": {
        "id": "amo3XPoJMoWr"
      },
      "outputs": [],
      "source": [
        "import json\n",
        "import pickle\n",
        "import re # for regular expressions"
      ]
    },
    {
      "cell_type": "code",
      "source": [
        "!wget https://cs.stanford.edu/people/karpathy/char-rnn/warpeace_input.txt # downloading the file"
      ],
      "metadata": {
        "colab": {
          "base_uri": "https://localhost:8080/"
        },
        "id": "qW2dleoFba_6",
        "outputId": "8bdfe64b-89b0-4449-823f-2ecb3492b1fc"
      },
      "execution_count": null,
      "outputs": [
        {
          "output_type": "stream",
          "name": "stdout",
          "text": [
            "--2024-10-24 19:33:02--  https://cs.stanford.edu/people/karpathy/char-rnn/warpeace_input.txt\n",
            "Resolving cs.stanford.edu (cs.stanford.edu)... 171.64.64.64\n",
            "Connecting to cs.stanford.edu (cs.stanford.edu)|171.64.64.64|:443... connected.\n",
            "HTTP request sent, awaiting response... 200 OK\n",
            "Length: 3258246 (3.1M) [text/plain]\n",
            "Saving to: ‘warpeace_input.txt’\n",
            "\n",
            "warpeace_input.txt  100%[===================>]   3.11M  4.75MB/s    in 0.7s    \n",
            "\n",
            "2024-10-24 19:33:03 (4.75 MB/s) - ‘warpeace_input.txt’ saved [3258246/3258246]\n",
            "\n"
          ]
        }
      ]
    },
    {
      "cell_type": "code",
      "source": [
        "with open('warpeace_input.txt', 'r') as f:\n",
        "    text = f.read() # reading the entire text"
      ],
      "metadata": {
        "id": "gaJZllMNbeCf"
      },
      "execution_count": null,
      "outputs": []
    },
    {
      "cell_type": "code",
      "source": [
        "!head warpeace_input.txt"
      ],
      "metadata": {
        "colab": {
          "base_uri": "https://localhost:8080/"
        },
        "id": "3yNEv5_2beyQ",
        "outputId": "79506236-b6fe-4770-ad37-59a2f80c986c"
      },
      "execution_count": null,
      "outputs": [
        {
          "output_type": "stream",
          "name": "stdout",
          "text": [
            "﻿\"Well, Prince, so Genoa and Lucca are now just family estates of the\r\n",
            "Buonapartes. But I warn you, if you don't tell me that this means war,\r\n",
            "if you still try to defend the infamies and horrors perpetrated by that\r\n",
            "Antichrist--I really believe he is Antichrist--I will have nothing more\r\n",
            "to do with you and you are no longer my friend, no longer my 'faithful\r\n",
            "slave,' as you call yourself! But how do you do? I see I have frightened\r\n",
            "you--sit down and tell me all the news.\"\r\n",
            "\r\n",
            "It was in July, 1805, and the speaker was the well-known Anna Pavlovna\r\n",
            "Scherer, maid of honor and favorite of the Empress Marya Fedorovna. With\r\n"
          ]
        }
      ]
    },
    {
      "cell_type": "code",
      "source": [
        "lines = text.splitlines()  # splitting the text into a list of lines\n",
        "for line in lines[:10]:    # printing first 10 lines to check\n",
        "  print(line)"
      ],
      "metadata": {
        "colab": {
          "base_uri": "https://localhost:8080/"
        },
        "id": "NvGO79qrbiAG",
        "outputId": "5030dce2-72b9-4cd7-9edc-e12d131d4ed9"
      },
      "execution_count": null,
      "outputs": [
        {
          "output_type": "stream",
          "name": "stdout",
          "text": [
            "﻿\"Well, Prince, so Genoa and Lucca are now just family estates of the\n",
            "Buonapartes. But I warn you, if you don't tell me that this means war,\n",
            "if you still try to defend the infamies and horrors perpetrated by that\n",
            "Antichrist--I really believe he is Antichrist--I will have nothing more\n",
            "to do with you and you are no longer my friend, no longer my 'faithful\n",
            "slave,' as you call yourself! But how do you do? I see I have frightened\n",
            "you--sit down and tell me all the news.\"\n",
            "\n",
            "It was in July, 1805, and the speaker was the well-known Anna Pavlovna\n",
            "Scherer, maid of honor and favorite of the Empress Marya Fedorovna. With\n"
          ]
        }
      ]
    },
    {
      "cell_type": "code",
      "source": [
        "import re\n",
        "count = 0\n",
        "with open('text.txt', 'w') as file: # writing lines into the file\n",
        "  for line in lines:\n",
        "    line = line.replace('--', ' ')\n",
        "    if count<10:\n",
        "      print(line)\n",
        "      count+=1\n",
        "    line = re.sub('[^a-zA-Z0-9 \\.]', '', line)\n",
        "    file.write(line)\n",
        "    file.write(' ')"
      ],
      "metadata": {
        "colab": {
          "base_uri": "https://localhost:8080/"
        },
        "id": "zBW291n0boO2",
        "outputId": "8bd1ed6b-3557-4e80-8ba3-79dae56af95e"
      },
      "execution_count": null,
      "outputs": [
        {
          "output_type": "stream",
          "name": "stdout",
          "text": [
            "﻿\"Well, Prince, so Genoa and Lucca are now just family estates of the\n",
            "Buonapartes. But I warn you, if you don't tell me that this means war,\n",
            "if you still try to defend the infamies and horrors perpetrated by that\n",
            "Antichrist I really believe he is Antichrist I will have nothing more\n",
            "to do with you and you are no longer my friend, no longer my 'faithful\n",
            "slave,' as you call yourself! But how do you do? I see I have frightened\n",
            "you sit down and tell me all the news.\"\n",
            "\n",
            "It was in July, 1805, and the speaker was the well-known Anna Pavlovna\n",
            "Scherer, maid of honor and favorite of the Empress Marya Fedorovna. With\n"
          ]
        }
      ]
    },
    {
      "cell_type": "code",
      "source": [
        "with open('text.txt', 'r') as f:\n",
        "    pr_text = f.read() # reading the entire text"
      ],
      "metadata": {
        "id": "KWcRtVRObuKB"
      },
      "execution_count": null,
      "outputs": []
    },
    {
      "cell_type": "code",
      "source": [
        "pr_text = pr_text.lower()\n",
        "pr_text = pr_text.replace('.', ' .')\n",
        "print(pr_text[:593])"
      ],
      "metadata": {
        "colab": {
          "base_uri": "https://localhost:8080/"
        },
        "id": "2FF5eCnUbxAU",
        "outputId": "04f15710-2ae1-4ee0-b6c6-f0d4f6f9d47a"
      },
      "execution_count": null,
      "outputs": [
        {
          "output_type": "stream",
          "name": "stdout",
          "text": [
            "well prince so genoa and lucca are now just family estates of the buonapartes . but i warn you if you dont tell me that this means war if you still try to defend the infamies and horrors perpetrated by that antichrist i really believe he is antichrist i will have nothing more to do with you and you are no longer my friend no longer my faithful slave as you call yourself but how do you do i see i have frightened you sit down and tell me all the news .  it was in july 1805 and the speaker was the wellknown anna pavlovna scherer maid of honor and favorite of the empress marya fedorovna . w\n"
          ]
        }
      ]
    },
    {
      "cell_type": "code",
      "source": [
        "# build the vocabulary of words and mappings to/from integers\n",
        "UNK_TOKEN='<UNK>'\n",
        "pr_text_words = pr_text.split() # splitting the text into words\n",
        "num_words = len(pr_text_words) # number of words\n",
        "words = sorted(list(set(pr_text_words))) # sorted list of unique words\n",
        "words = [' ']+words # adding a space to the beginning of the list\n",
        "words = words + [UNK_TOKEN]\n",
        "int2word = dict(enumerate(words)) # dictionary mapping ints to words\n",
        "word2int = {word: i for i, word in int2word.items()} # dictionary mapping words to ints\n",
        "for i in range(100):\n",
        "  print(word2int[words[i]], ':', words[i])\n",
        "for i in range(-1,-101, -1):\n",
        "  print(word2int[words[i]], ':', words[i])"
      ],
      "metadata": {
        "colab": {
          "base_uri": "https://localhost:8080/"
        },
        "id": "dW-YExalbzr5",
        "outputId": "d4e778c1-dcff-4b77-fd65-190916889a8b"
      },
      "execution_count": null,
      "outputs": [
        {
          "output_type": "stream",
          "name": "stdout",
          "text": [
            "0 :  \n",
            "1 : .\n",
            "2 : .2\n",
            "3 : .ar\n",
            "4 : .ate\n",
            "5 : .ly\n",
            "6 : .n\n",
            "7 : .not\n",
            "8 : .o\n",
            "9 : .of\n",
            "10 : .s\n",
            "11 : .u\n",
            "12 : 1\n",
            "13 : 10\n",
            "14 : 100\n",
            "15 : 10000\n",
            "16 : 100000\n",
            "17 : 102\n",
            "18 : 11\n",
            "19 : 110\n",
            "20 : 120\n",
            "21 : 130\n",
            "22 : 13th\n",
            "23 : 140\n",
            "24 : 15\n",
            "25 : 150\n",
            "26 : 15000\n",
            "27 : 150000\n",
            "28 : 154\n",
            "29 : 15y\n",
            "30 : 160\n",
            "31 : 160000\n",
            "32 : 17\n",
            "33 : 178\n",
            "34 : 1789\n",
            "35 : 1797\n",
            "36 : 17th\n",
            "37 : 18\n",
            "38 : 1805\n",
            "39 : 18056\n",
            "40 : 1806\n",
            "41 : 1807\n",
            "42 : 1808\n",
            "43 : 1809\n",
            "44 : 1810\n",
            "45 : 1811\n",
            "46 : 1812\n",
            "47 : 1813\n",
            "48 : 1815\n",
            "49 : 1820\n",
            "50 : 18th\n",
            "51 : 1st\n",
            "52 : 2\n",
            "53 : 20\n",
            "54 : 217\n",
            "55 : 22\n",
            "56 : 22nd\n",
            "57 : 23\n",
            "58 : 23rd\n",
            "59 : 24\n",
            "60 : 24th\n",
            "61 : 25\n",
            "62 : 25th\n",
            "63 : 26\n",
            "64 : 27\n",
            "65 : 27th\n",
            "66 : 3\n",
            "67 : 30\n",
            "68 : 30000\n",
            "69 : 31\n",
            "70 : 3rd\n",
            "71 : 4\n",
            "72 : 40\n",
            "73 : 4th\n",
            "74 : 4x\n",
            "75 : 5\n",
            "76 : 50\n",
            "77 : 6\n",
            "78 : 60\n",
            "79 : 62\n",
            "80 : 666\n",
            "81 : 671\n",
            "82 : 6me\n",
            "83 : 6th\n",
            "84 : 7\n",
            "85 : 70\n",
            "86 : 700\n",
            "87 : 70000\n",
            "88 : 7th\n",
            "89 : 8\n",
            "90 : 80\n",
            "91 : 800\n",
            "92 : 80000\n",
            "93 : 86th\n",
            "94 : 8th\n",
            "95 : 9\n",
            "96 : 90\n",
            "97 : 9th\n",
            "98 : a\n",
            "99 : aah\n",
            "18335 : <UNK>\n",
            "18334 : zweck\n",
            "18333 : zum\n",
            "18332 : zubovski\n",
            "18331 : zubova\n",
            "18330 : zubov\n",
            "18329 : zu\n",
            "18328 : zoology\n",
            "18327 : zone\n",
            "18326 : znamenka\n",
            "18325 : znaim\n",
            "18324 : zis\n",
            "18323 : zinaida\n",
            "18322 : zikin\n",
            "18321 : zigzag\n",
            "18320 : zides\n",
            "18319 : zhilinskis\n",
            "18318 : zhilinski\n",
            "18317 : zherkovs\n",
            "18316 : zherkov\n",
            "18315 : zharov\n",
            "18314 : zest\n",
            "18313 : zero\n",
            "18312 : zeres\n",
            "18311 : zenith\n",
            "18310 : zen\n",
            "18309 : zealously\n",
            "18308 : zealous\n",
            "18307 : zeal\n",
            "18306 : ze\n",
            "18305 : zdrzhinskis\n",
            "18304 : zdrzhinski\n",
            "18303 : zaymishche\n",
            "18302 : zavarzinsk\n",
            "18301 : zat\n",
            "18300 : zaletaev\n",
            "18299 : zakuska\n",
            "18298 : zakret\n",
            "18297 : zakharych\n",
            "18296 : zakharino\n",
            "18295 : zakharchenko\n",
            "18294 : zakhar\n",
            "18293 : z\n",
            "18292 : yusupovs\n",
            "18291 : yusupova\n",
            "18290 : yuri\n",
            "18289 : yukhnovo\n",
            "18288 : yukhnovna\n",
            "18287 : yukhnov\n",
            "18286 : youve\n",
            "18285 : youths\n",
            "18284 : youthfulness\n",
            "18283 : youthfully\n",
            "18282 : youthful\n",
            "18281 : youth\n",
            "18280 : yourselves\n",
            "18279 : yourself\n",
            "18278 : yours\n",
            "18277 : youre\n",
            "18276 : your\n",
            "18275 : youngsters\n",
            "18274 : youngster\n",
            "18273 : younglooking\n",
            "18272 : youngest\n",
            "18271 : younger\n",
            "18270 : young\n",
            "18269 : youll\n",
            "18268 : youd\n",
            "18267 : you\n",
            "18266 : york\n",
            "18265 : yonder\n",
            "18264 : yields\n",
            "18263 : yielding\n",
            "18262 : yielded\n",
            "18261 : yield\n",
            "18260 : yeux\n",
            "18259 : yet\n",
            "18258 : yesterdays\n",
            "18257 : yesterday\n",
            "18256 : yes\n",
            "18255 : yelping\n",
            "18254 : yelped\n",
            "18253 : yelp\n",
            "18252 : yells\n",
            "18251 : yellowishgreen\n",
            "18250 : yellowish\n",
            "18249 : yellowing\n",
            "18248 : yellowfaced\n",
            "18247 : yellow\n",
            "18246 : yelling\n",
            "18245 : yelled\n",
            "18244 : yell\n",
            "18243 : years\n",
            "18242 : yearold\n",
            "18241 : year\n",
            "18240 : yeah\n",
            "18239 : yawning\n",
            "18238 : yawned\n",
            "18237 : yawn\n",
            "18236 : yauza\n"
          ]
        }
      ]
    },
    {
      "cell_type": "code",
      "source": [
        "from google.colab import drive\n",
        "drive.mount('/content/drive')\n",
        "\n",
        "folder_path = '/content/drive/MyDrive/War_and_Peace/'"
      ],
      "metadata": {
        "colab": {
          "base_uri": "https://localhost:8080/"
        },
        "id": "h-ybBYjcpL5e",
        "outputId": "83d64175-c199-4009-f727-e5b450c2dcc7"
      },
      "execution_count": null,
      "outputs": [
        {
          "output_type": "stream",
          "name": "stdout",
          "text": [
            "Mounted at /content/drive\n"
          ]
        }
      ]
    },
    {
      "cell_type": "code",
      "source": [
        "with open(folder_path + 'processed_warandpeace.txt', 'w') as f: # storing the processed text in another file\n",
        "  json.dump(pr_text, f)"
      ],
      "metadata": {
        "id": "Hez6MQpRolH2"
      },
      "execution_count": null,
      "outputs": []
    },
    {
      "cell_type": "code",
      "source": [
        "with open(folder_path + 'int2word.pkl', 'wb') as f: # storing the int2word dictionary in another file\n",
        "    pickle.dump(int2word, f)"
      ],
      "metadata": {
        "id": "vB1P1gBbo1Xv"
      },
      "execution_count": null,
      "outputs": []
    },
    {
      "cell_type": "code",
      "source": [
        "with open(folder_path + 'word2int.pkl', 'wb') as f: # storing the word2int dictionary in another file\n",
        "    pickle.dump(word2int, f)"
      ],
      "metadata": {
        "id": "2PHgvAfIo9Zw"
      },
      "execution_count": null,
      "outputs": []
    }
  ]
}